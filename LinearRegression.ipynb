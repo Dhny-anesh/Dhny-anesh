{
  "nbformat": 4,
  "nbformat_minor": 0,
  "metadata": {
    "colab": {
      "provenance": [],
      "include_colab_link": true
    },
    "kernelspec": {
      "name": "python3",
      "display_name": "Python 3"
    },
    "language_info": {
      "name": "python"
    }
  },
  "cells": [
    {
      "cell_type": "markdown",
      "metadata": {
        "id": "view-in-github",
        "colab_type": "text"
      },
      "source": [
        "<a href=\"https://colab.research.google.com/github/Dhny-anesh/Dhny-anesh/blob/main/LinearRegression.ipynb\" target=\"_parent\"><img src=\"https://colab.research.google.com/assets/colab-badge.svg\" alt=\"Open In Colab\"/></a>"
      ]
    },
    {
      "cell_type": "markdown",
      "source": [
        "#How to run the cells\n",
        "Use **Shift+Enter** keys to run a cell.\n",
        "\n",
        "**In this notebook you're going to implement Linear Regression algorithm.**\n",
        "## Important Note on Submission\n",
        "\n",
        "Before submitting your assignment, please make sure you are not doing the following:\n",
        "\n",
        "1. You have not added any _extra_ `print` statement(s) in the assignment.\n",
        "2. You have not added any _extra_ code cell(s) in the assignment.\n",
        "3. You have not changed any of the function parameters.\n",
        "4. You are not changing the assignment code where it is not required."
      ],
      "metadata": {
        "id": "xJigu6mbh-DM"
      }
    },
    {
      "cell_type": "code",
      "execution_count": null,
      "metadata": {
        "id": "9f5mASz-w-Jp"
      },
      "outputs": [],
      "source": [
        "#DO NOT EDIT THIS CELL\n",
        "import random\n",
        "import matplotlib.pyplot as plt\n",
        "from testcases import Testcase"
      ]
    },
    {
      "cell_type": "code",
      "source": [
        "#DO NOT EDIT THIS CELL\n",
        "def calculate_squared_deviation(deviation):\n",
        "    squared_deviation = []\n",
        "    for dev in deviation:\n",
        "        squared_deviation.append(dev ** 2)\n",
        "    return squared_deviation"
      ],
      "metadata": {
        "id": "Dz0cgRICr-wB"
      },
      "execution_count": null,
      "outputs": []
    },
    {
      "cell_type": "code",
      "source": [
        "#DO NOT EDIT THIS CELL\n",
        "def calculate_variance(values, mean):\n",
        "    deviation = calculate_deviation(values, mean)\n",
        "    squared_deviation = calculate_squared_deviation(deviation)\n",
        "    variance = calculate_mean(squared_deviation)\n",
        "    return variance"
      ],
      "metadata": {
        "id": "AWM9l2SgsCTT"
      },
      "execution_count": null,
      "outputs": []
    },
    {
      "cell_type": "code",
      "source": [
        "#DO NOT EDIT THIS CELL\n",
        "def calculate_deviation(values, mean):\n",
        "    deviation = []\n",
        "    for x in values:\n",
        "        deviation.append(x - mean)\n",
        "    return deviation"
      ],
      "metadata": {
        "id": "mUhqAH1or8HG"
      },
      "execution_count": null,
      "outputs": []
    },
    {
      "cell_type": "code",
      "source": [
        "#DO NOT EDIT THIS CELL\n",
        "def calculate_yhat(b0, b1, row0):\n",
        "    return b0 + b1 * row0"
      ],
      "metadata": {
        "id": "t8Fiwj9isSd7"
      },
      "execution_count": null,
      "outputs": []
    },
    {
      "cell_type": "code",
      "source": [
        "#DO NOT EDIT THIS CELL\n",
        "def calculate_mean(values):\n",
        "    num_of_values = len(values)\n",
        "    sum_of_values = sum(values)\n",
        "    return sum_of_values / num_of_values"
      ],
      "metadata": {
        "id": "bLrVDdnfr5U-"
      },
      "execution_count": null,
      "outputs": []
    },
    {
      "cell_type": "code",
      "source": [
        "#DO NOT EDIT THIS CELL\n",
        "def predict_y_values(train, test):\n",
        "    predictions = []\n",
        "    b0, b1 = calculate_intercept_slope(train)\n",
        "    for row in test:\n",
        "        yhat = calculate_yhat(b0, b1, row[0])\n",
        "        predictions.append(yhat)\n",
        "    return predictions"
      ],
      "metadata": {
        "id": "79oh0MwqSkkq"
      },
      "execution_count": null,
      "outputs": []
    },
    {
      "cell_type": "code",
      "source": [
        "#DO NOT EDIT THIS CELL\n",
        "def calculate_covariance(x, y):\n",
        "    x_mean = calculate_mean(x)\n",
        "    y_mean = calculate_mean(y)\n",
        "    x_deviation = calculate_deviation(x, x_mean)\n",
        "    y_deviation = calculate_deviation(y, y_mean)\n",
        "    covar = 0.0\n",
        "    for i in range(len(x)):\n",
        "        covar += x_deviation[i] * y_deviation[i]\n",
        "    return covar"
      ],
      "metadata": {
        "id": "OcQSlgyNsCGs"
      },
      "execution_count": null,
      "outputs": []
    },
    {
      "cell_type": "code",
      "source": [
        "#DO NOT EDIT THIS CELL\n",
        "def calculate_intercept_slope(dataset):\n",
        "    x = [row[0] for row in dataset]\n",
        "    y = [row[1] for row in dataset]\n",
        "    b1 = calculate_covariance(x, y) / calculate_variance(x, calculate_mean(x))\n",
        "    b0 = calculate_mean(y) - b1 * calculate_mean(x)\n",
        "    return b0, b1"
      ],
      "metadata": {
        "id": "CFWRNBxlsOtp"
      },
      "execution_count": null,
      "outputs": []
    },
    {
      "cell_type": "code",
      "source": [
        "#DO NOT EDIT\n",
        "test = Testcase()\n",
        "test.test_function_sequence()"
      ],
      "metadata": {
        "id": "fkE08c9PQQ7n",
        "colab": {
          "base_uri": "https://localhost:8080/"
        },
        "outputId": "db05a180-e169-42aa-b628-47742edb3544"
      },
      "execution_count": null,
      "outputs": [
        {
          "output_type": "stream",
          "name": "stdout",
          "text": [
            "Enter the function sequence as a comma-separated string: calculate_num_of_values,calculate_sum,calculate_mean,calculate_deviation,calculate_squared_deviation,calculate_variance,calculate_covariance,calculate_b1,calculate_b0,calculate_intercept_slope,calculate_yhat,predict_y_values\n",
            "Test passed.\n"
          ]
        }
      ]
    },
    {
      "cell_type": "markdown",
      "source": [
        "#Congratulations You've correctly implemented Linear Regression\n",
        "##The rest cells are for fun!\n",
        "Let's test your implementation on a random data."
      ],
      "metadata": {
        "id": "QtNLeQyEvB2L"
      }
    },
    {
      "cell_type": "code",
      "source": [
        "# Generate random data\n",
        "dataset = [[random.uniform(0, 10), random.uniform(0, 10)] for i in range(20)]\n",
        "train = dataset[:15]\n",
        "test = dataset[15:]\n",
        "\n",
        "# Train the model and make predictions\n",
        "predictions = predict_y_values(train, test)\n",
        "\n",
        "# Print the predictions and actual values\n",
        "for i in range(len(predictions)):\n",
        "    print(\"Predicted: %.2f Actual: %.2f\" % (predictions[i], test[i][1]))"
      ],
      "metadata": {
        "id": "elbxLgFlzEQD"
      },
      "execution_count": null,
      "outputs": []
    },
    {
      "cell_type": "code",
      "source": [
        "# Plot the predicted values against the actual values\n",
        "x_test = [row[0] for row in test]\n",
        "y_test = [row[1] for row in test]\n",
        "plt.scatter(x_test, y_test, color='blue', label='Actual')\n",
        "plt.scatter(x_test, predictions, color='red', label='Predicted')\n",
        "plt.xlabel('X')\n",
        "plt.ylabel('Y')\n",
        "plt.title('Linear Regression')\n",
        "plt.legend()\n",
        "plt.show()"
      ],
      "metadata": {
        "id": "L2XWnRj5w_nI"
      },
      "execution_count": null,
      "outputs": []
    }
  ]
}